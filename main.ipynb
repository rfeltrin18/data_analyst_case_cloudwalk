{
 "cells": [
  {
   "cell_type": "markdown",
   "source": [
    "# Business Case -- XPTO LLC.\n",
    "\n",
    "## Data Analyst\n",
    "\n",
    "### Candidate: Rafael Feltrin\n",
    "\n",
    "Let's start by importing functions from the modules I wrote to perform the challenge's Parts I and II, which are respectively *etl_script.py* and *eda_script.py*."
   ],
   "metadata": {
    "collapsed": false
   },
   "id": "c9e342d7b7906b09"
  },
  {
   "cell_type": "code",
   "outputs": [],
   "source": [
    "import warnings\n",
    "\n",
    "warnings.simplefilter(action='ignore', category=FutureWarning)\n",
    "\n",
    "\n",
    "from scripts.eda_script import (slice_date)\n",
    "from scripts.etl_script import (create_geodf,\n",
    "                                read_csv, \n",
    "                                write_associates_and_branches_cols,\n",
    "                                write_database_dates)\n"
   ],
   "metadata": {
    "collapsed": true,
    "ExecuteTime": {
     "end_time": "2024-04-17T23:55:17.483031Z",
     "start_time": "2024-04-17T23:55:16.356880Z"
    }
   },
   "id": "initial_id",
   "execution_count": 1
  },
  {
   "cell_type": "markdown",
   "source": [
    "# Part I : ETL\n",
    "\n",
    "We must start by opening the .csv file and creating some new columns as we see fit -- they might be used here or could be nice to have in future analyses.\n",
    "\n",
    "So we begin we the *read_csv* method, which takes the file path and already does a simple change, which is filling the root CNPJ and the full CNPJ with leading zeroes in case they are missing.\n",
    "\n",
    "I always do that because this kind of data tends to end up in the hands of less tech-savvy areas such as sales ops and marketing, and it is very common for them to match these CNPJ columns with manually collected spreadsheets or CRM outputs which commonly has the leading zeroes."
   ],
   "metadata": {
    "collapsed": false
   },
   "id": "c96b3cda35ba2df"
  },
  {
   "cell_type": "code",
   "outputs": [
    {
     "data": {
      "text/plain": "  document_number cnpj_basico establishment_type  \\\n0  79690152000466    79690152             FILIAL   \n1  79690152000385    79690152             FILIAL   \n2  79690152000628    79690152             FILIAL   \n3  79690152000709    79690152             FILIAL   \n4  79690152000113    79690152             MATRIZ   \n5  79690152000202    79690152             FILIAL   \n6  79690152000890    79690152             FILIAL   \n7  01092817001333    01092817             FILIAL   \n8  01092817000795    01092817             FILIAL   \n9  01092817001252    01092817             FILIAL   \n\n                           razao_social                         nome_fantasia  \\\n0  COMERCIAL AGRICOLA DE PARANAVAI LTDA           KATO TRATORES E IMPLEMENTOS   \n1  COMERCIAL AGRICOLA DE PARANAVAI LTDA  COMERCIAL AGRICOLA DE PARANAVAI LTDA   \n2  COMERCIAL AGRICOLA DE PARANAVAI LTDA           KATO TRATORES E IMPLEMENTOS   \n3  COMERCIAL AGRICOLA DE PARANAVAI LTDA           KATO TRATORES E IMPLEMENTOS   \n4  COMERCIAL AGRICOLA DE PARANAVAI LTDA                                   NaN   \n5  COMERCIAL AGRICOLA DE PARANAVAI LTDA           KATO TRATORES E IMPLEMENTOS   \n6  COMERCIAL AGRICOLA DE PARANAVAI LTDA                         KATO TRATORES   \n7        M. A. MAQUINAS AGRICOLAS LTDA.                         M.A. MAQUINAS   \n8        M. A. MAQUINAS AGRICOLAS LTDA.                        M. A. MAQUINAS   \n9        M. A. MAQUINAS AGRICOLAS LTDA.                                   NaN   \n\n             opening_date     cnae  \\\n0  26 de novembro de 2003  4661300   \n1  17 de setembro de 1976  4661300   \n2   10 de janeiro de 1995  4661300   \n3     22 de junho de 1999  4661300   \n4  22 de novembro de 1968  4661300   \n5   09 de outubro de 2003  4661300   \n6  01 de novembro de 2011  4661300   \n7  19 de dezembro de 2016  4661300   \n8   27 de outubro de 2008  4661300   \n9    03 de agosto de 2011  4661300   \n\n                                    cnae_description   mcc  \\\n0  Comércio atacadista de máquinas, aparelhos e e...  5599   \n1  Comércio atacadista de máquinas, aparelhos e e...  5599   \n2  Comércio atacadista de máquinas, aparelhos e e...  5599   \n3  Comércio atacadista de máquinas, aparelhos e e...  5599   \n4  Comércio atacadista de máquinas, aparelhos e e...  5599   \n5  Comércio atacadista de máquinas, aparelhos e e...  5599   \n6  Comércio atacadista de máquinas, aparelhos e e...  5599   \n7  Comércio atacadista de máquinas, aparelhos e e...  5599   \n8  Comércio atacadista de máquinas, aparelhos e e...  5599   \n9  Comércio atacadista de máquinas, aparelhos e e...  5599   \n\n                                     mcc_description  \\\n0  Miscellaneous Automotive, Aircraft, and Farm E...   \n1  Miscellaneous Automotive, Aircraft, and Farm E...   \n2  Miscellaneous Automotive, Aircraft, and Farm E...   \n3  Miscellaneous Automotive, Aircraft, and Farm E...   \n4  Miscellaneous Automotive, Aircraft, and Farm E...   \n5  Miscellaneous Automotive, Aircraft, and Farm E...   \n6  Miscellaneous Automotive, Aircraft, and Farm E...   \n7  Miscellaneous Automotive, Aircraft, and Farm E...   \n8  Miscellaneous Automotive, Aircraft, and Farm E...   \n9  Miscellaneous Automotive, Aircraft, and Farm E...   \n\n                       total_branches_and_associates         city_state  \\\n0  {\"total_associates\": 8, \"total_branches\": \"12 ...       Ubiratã - PR   \n1  {\"total_associates\": 8, \"total_branches\": \"12 ...        Loanda - PR   \n2  {\"total_associates\": 8, \"total_branches\": \"12 ...       Maringá - PR   \n3  {\"total_associates\": 8, \"total_branches\": \"12 ...      Umuarama - PR   \n4  {\"total_associates\": 8, \"total_branches\": \"12 ...     Paranavaí - PR   \n5  {\"total_associates\": 8, \"total_branches\": \"12 ...  Campo Mourão - PR   \n6  {\"total_associates\": 8, \"total_branches\": \"12 ...       Goioerê - PR   \n7  {\"total_associates\": 8, \"total_branches\": \"13 ...      Cascavel - PR   \n8  {\"total_associates\": 8, \"total_branches\": \"13 ...       Ubiratã - PR   \n9  {\"total_associates\": 8, \"total_branches\": \"13 ...      Cianorte - PR   \n\n   city_code  zip_code  share_capital size_company  \\\n0    4128005  85440000      4750000.0        OTHER   \n1    4113502  87900000      4750000.0        OTHER   \n2    4115200  87065005      4750000.0        OTHER   \n3    4128104  87507011      4750000.0        OTHER   \n4    4118402  87711000      4750000.0        OTHER   \n5    4104303  87308550      4750000.0        OTHER   \n6    4108601  87360000      4750000.0        OTHER   \n7    4104808  85804600    168546832.0        OTHER   \n8    4128005  85440000    168546832.0        OTHER   \n9    4105508  87209128    168546832.0        OTHER   \n\n                juri_description             juri_description_ENG  \\\n0  Sociedade Empresária Limitada  Limited Liability Company (LLC)   \n1  Sociedade Empresária Limitada  Limited Liability Company (LLC)   \n2  Sociedade Empresária Limitada  Limited Liability Company (LLC)   \n3  Sociedade Empresária Limitada  Limited Liability Company (LLC)   \n4  Sociedade Empresária Limitada  Limited Liability Company (LLC)   \n5  Sociedade Empresária Limitada  Limited Liability Company (LLC)   \n6  Sociedade Empresária Limitada  Limited Liability Company (LLC)   \n7  Sociedade Empresária Limitada  Limited Liability Company (LLC)   \n8  Sociedade Empresária Limitada  Limited Liability Company (LLC)   \n9  Sociedade Empresária Limitada  Limited Liability Company (LLC)   \n\n        email_provider  \n0                  NaN  \n1                  NaN  \n2  katoagricola.com.br  \n3  katoagricola.com.br  \n4  KATOAGRICOLA.COM.BR  \n5  katoagricola.com.br  \n6  KATOAGRICOLA.COM.BR  \n7                  NaN  \n8                  NaN  \n9                  NaN  ",
      "text/html": "<div>\n<style scoped>\n    .dataframe tbody tr th:only-of-type {\n        vertical-align: middle;\n    }\n\n    .dataframe tbody tr th {\n        vertical-align: top;\n    }\n\n    .dataframe thead th {\n        text-align: right;\n    }\n</style>\n<table border=\"1\" class=\"dataframe\">\n  <thead>\n    <tr style=\"text-align: right;\">\n      <th></th>\n      <th>document_number</th>\n      <th>cnpj_basico</th>\n      <th>establishment_type</th>\n      <th>razao_social</th>\n      <th>nome_fantasia</th>\n      <th>opening_date</th>\n      <th>cnae</th>\n      <th>cnae_description</th>\n      <th>mcc</th>\n      <th>mcc_description</th>\n      <th>total_branches_and_associates</th>\n      <th>city_state</th>\n      <th>city_code</th>\n      <th>zip_code</th>\n      <th>share_capital</th>\n      <th>size_company</th>\n      <th>juri_description</th>\n      <th>juri_description_ENG</th>\n      <th>email_provider</th>\n    </tr>\n  </thead>\n  <tbody>\n    <tr>\n      <th>0</th>\n      <td>79690152000466</td>\n      <td>79690152</td>\n      <td>FILIAL</td>\n      <td>COMERCIAL AGRICOLA DE PARANAVAI LTDA</td>\n      <td>KATO TRATORES E IMPLEMENTOS</td>\n      <td>26 de novembro de 2003</td>\n      <td>4661300</td>\n      <td>Comércio atacadista de máquinas, aparelhos e e...</td>\n      <td>5599</td>\n      <td>Miscellaneous Automotive, Aircraft, and Farm E...</td>\n      <td>{\"total_associates\": 8, \"total_branches\": \"12 ...</td>\n      <td>Ubiratã - PR</td>\n      <td>4128005</td>\n      <td>85440000</td>\n      <td>4750000.0</td>\n      <td>OTHER</td>\n      <td>Sociedade Empresária Limitada</td>\n      <td>Limited Liability Company (LLC)</td>\n      <td>NaN</td>\n    </tr>\n    <tr>\n      <th>1</th>\n      <td>79690152000385</td>\n      <td>79690152</td>\n      <td>FILIAL</td>\n      <td>COMERCIAL AGRICOLA DE PARANAVAI LTDA</td>\n      <td>COMERCIAL AGRICOLA DE PARANAVAI LTDA</td>\n      <td>17 de setembro de 1976</td>\n      <td>4661300</td>\n      <td>Comércio atacadista de máquinas, aparelhos e e...</td>\n      <td>5599</td>\n      <td>Miscellaneous Automotive, Aircraft, and Farm E...</td>\n      <td>{\"total_associates\": 8, \"total_branches\": \"12 ...</td>\n      <td>Loanda - PR</td>\n      <td>4113502</td>\n      <td>87900000</td>\n      <td>4750000.0</td>\n      <td>OTHER</td>\n      <td>Sociedade Empresária Limitada</td>\n      <td>Limited Liability Company (LLC)</td>\n      <td>NaN</td>\n    </tr>\n    <tr>\n      <th>2</th>\n      <td>79690152000628</td>\n      <td>79690152</td>\n      <td>FILIAL</td>\n      <td>COMERCIAL AGRICOLA DE PARANAVAI LTDA</td>\n      <td>KATO TRATORES E IMPLEMENTOS</td>\n      <td>10 de janeiro de 1995</td>\n      <td>4661300</td>\n      <td>Comércio atacadista de máquinas, aparelhos e e...</td>\n      <td>5599</td>\n      <td>Miscellaneous Automotive, Aircraft, and Farm E...</td>\n      <td>{\"total_associates\": 8, \"total_branches\": \"12 ...</td>\n      <td>Maringá - PR</td>\n      <td>4115200</td>\n      <td>87065005</td>\n      <td>4750000.0</td>\n      <td>OTHER</td>\n      <td>Sociedade Empresária Limitada</td>\n      <td>Limited Liability Company (LLC)</td>\n      <td>katoagricola.com.br</td>\n    </tr>\n    <tr>\n      <th>3</th>\n      <td>79690152000709</td>\n      <td>79690152</td>\n      <td>FILIAL</td>\n      <td>COMERCIAL AGRICOLA DE PARANAVAI LTDA</td>\n      <td>KATO TRATORES E IMPLEMENTOS</td>\n      <td>22 de junho de 1999</td>\n      <td>4661300</td>\n      <td>Comércio atacadista de máquinas, aparelhos e e...</td>\n      <td>5599</td>\n      <td>Miscellaneous Automotive, Aircraft, and Farm E...</td>\n      <td>{\"total_associates\": 8, \"total_branches\": \"12 ...</td>\n      <td>Umuarama - PR</td>\n      <td>4128104</td>\n      <td>87507011</td>\n      <td>4750000.0</td>\n      <td>OTHER</td>\n      <td>Sociedade Empresária Limitada</td>\n      <td>Limited Liability Company (LLC)</td>\n      <td>katoagricola.com.br</td>\n    </tr>\n    <tr>\n      <th>4</th>\n      <td>79690152000113</td>\n      <td>79690152</td>\n      <td>MATRIZ</td>\n      <td>COMERCIAL AGRICOLA DE PARANAVAI LTDA</td>\n      <td>NaN</td>\n      <td>22 de novembro de 1968</td>\n      <td>4661300</td>\n      <td>Comércio atacadista de máquinas, aparelhos e e...</td>\n      <td>5599</td>\n      <td>Miscellaneous Automotive, Aircraft, and Farm E...</td>\n      <td>{\"total_associates\": 8, \"total_branches\": \"12 ...</td>\n      <td>Paranavaí - PR</td>\n      <td>4118402</td>\n      <td>87711000</td>\n      <td>4750000.0</td>\n      <td>OTHER</td>\n      <td>Sociedade Empresária Limitada</td>\n      <td>Limited Liability Company (LLC)</td>\n      <td>KATOAGRICOLA.COM.BR</td>\n    </tr>\n    <tr>\n      <th>5</th>\n      <td>79690152000202</td>\n      <td>79690152</td>\n      <td>FILIAL</td>\n      <td>COMERCIAL AGRICOLA DE PARANAVAI LTDA</td>\n      <td>KATO TRATORES E IMPLEMENTOS</td>\n      <td>09 de outubro de 2003</td>\n      <td>4661300</td>\n      <td>Comércio atacadista de máquinas, aparelhos e e...</td>\n      <td>5599</td>\n      <td>Miscellaneous Automotive, Aircraft, and Farm E...</td>\n      <td>{\"total_associates\": 8, \"total_branches\": \"12 ...</td>\n      <td>Campo Mourão - PR</td>\n      <td>4104303</td>\n      <td>87308550</td>\n      <td>4750000.0</td>\n      <td>OTHER</td>\n      <td>Sociedade Empresária Limitada</td>\n      <td>Limited Liability Company (LLC)</td>\n      <td>katoagricola.com.br</td>\n    </tr>\n    <tr>\n      <th>6</th>\n      <td>79690152000890</td>\n      <td>79690152</td>\n      <td>FILIAL</td>\n      <td>COMERCIAL AGRICOLA DE PARANAVAI LTDA</td>\n      <td>KATO TRATORES</td>\n      <td>01 de novembro de 2011</td>\n      <td>4661300</td>\n      <td>Comércio atacadista de máquinas, aparelhos e e...</td>\n      <td>5599</td>\n      <td>Miscellaneous Automotive, Aircraft, and Farm E...</td>\n      <td>{\"total_associates\": 8, \"total_branches\": \"12 ...</td>\n      <td>Goioerê - PR</td>\n      <td>4108601</td>\n      <td>87360000</td>\n      <td>4750000.0</td>\n      <td>OTHER</td>\n      <td>Sociedade Empresária Limitada</td>\n      <td>Limited Liability Company (LLC)</td>\n      <td>KATOAGRICOLA.COM.BR</td>\n    </tr>\n    <tr>\n      <th>7</th>\n      <td>01092817001333</td>\n      <td>01092817</td>\n      <td>FILIAL</td>\n      <td>M. A. MAQUINAS AGRICOLAS LTDA.</td>\n      <td>M.A. MAQUINAS</td>\n      <td>19 de dezembro de 2016</td>\n      <td>4661300</td>\n      <td>Comércio atacadista de máquinas, aparelhos e e...</td>\n      <td>5599</td>\n      <td>Miscellaneous Automotive, Aircraft, and Farm E...</td>\n      <td>{\"total_associates\": 8, \"total_branches\": \"13 ...</td>\n      <td>Cascavel - PR</td>\n      <td>4104808</td>\n      <td>85804600</td>\n      <td>168546832.0</td>\n      <td>OTHER</td>\n      <td>Sociedade Empresária Limitada</td>\n      <td>Limited Liability Company (LLC)</td>\n      <td>NaN</td>\n    </tr>\n    <tr>\n      <th>8</th>\n      <td>01092817000795</td>\n      <td>01092817</td>\n      <td>FILIAL</td>\n      <td>M. A. MAQUINAS AGRICOLAS LTDA.</td>\n      <td>M. A. MAQUINAS</td>\n      <td>27 de outubro de 2008</td>\n      <td>4661300</td>\n      <td>Comércio atacadista de máquinas, aparelhos e e...</td>\n      <td>5599</td>\n      <td>Miscellaneous Automotive, Aircraft, and Farm E...</td>\n      <td>{\"total_associates\": 8, \"total_branches\": \"13 ...</td>\n      <td>Ubiratã - PR</td>\n      <td>4128005</td>\n      <td>85440000</td>\n      <td>168546832.0</td>\n      <td>OTHER</td>\n      <td>Sociedade Empresária Limitada</td>\n      <td>Limited Liability Company (LLC)</td>\n      <td>NaN</td>\n    </tr>\n    <tr>\n      <th>9</th>\n      <td>01092817001252</td>\n      <td>01092817</td>\n      <td>FILIAL</td>\n      <td>M. A. MAQUINAS AGRICOLAS LTDA.</td>\n      <td>NaN</td>\n      <td>03 de agosto de 2011</td>\n      <td>4661300</td>\n      <td>Comércio atacadista de máquinas, aparelhos e e...</td>\n      <td>5599</td>\n      <td>Miscellaneous Automotive, Aircraft, and Farm E...</td>\n      <td>{\"total_associates\": 8, \"total_branches\": \"13 ...</td>\n      <td>Cianorte - PR</td>\n      <td>4105508</td>\n      <td>87209128</td>\n      <td>168546832.0</td>\n      <td>OTHER</td>\n      <td>Sociedade Empresária Limitada</td>\n      <td>Limited Liability Company (LLC)</td>\n      <td>NaN</td>\n    </tr>\n  </tbody>\n</table>\n</div>"
     },
     "metadata": {},
     "output_type": "display_data"
    }
   ],
   "source": [
    "path = r'C:\\Users\\rafaf\\PycharmProjects\\parana_irs_dataset_analysis\\data\\data_case_2024_03.csv'\n",
    "\n",
    "df = read_csv(path=path,\n",
    "              sep=',',\n",
    "              zfill_cols=['document_number', 'cnpj_basico'])\n",
    "\n",
    "display(df.head(10))"
   ],
   "metadata": {
    "collapsed": false,
    "ExecuteTime": {
     "end_time": "2024-04-17T23:55:24.901194Z",
     "start_time": "2024-04-17T23:55:17.484049Z"
    }
   },
   "id": "3e29a4bc2162bbc6",
   "execution_count": 2
  },
  {
   "cell_type": "markdown",
   "source": [
    "We can see it works.\n",
    "\n",
    "Next, we will convert the string-formatted to a database-friendly date format just in case we need it later. The *write_database_dates* function does that in a very modular fashion -- if we went back to the Roman calendar or added a new month we could only update the inputs!\n",
    "\n",
    "Back to the real world, we input the 12 months in Portuguese and run it."
   ],
   "metadata": {
    "collapsed": false
   },
   "id": "2c2d07857a947039"
  },
  {
   "cell_type": "code",
   "outputs": [
    {
     "data": {
      "text/plain": "0    20031126\n1    19760917\n2    19950110\n3    19990622\n4    19681122\n5    20031009\n6    20111101\n7    20161219\n8    20081027\n9    20110803\nName: formatted_opening_date, dtype: object"
     },
     "metadata": {},
     "output_type": "display_data"
    }
   ],
   "source": [
    "portuguese_months = ['janeiro', 'fevereiro', 'março', 'abril',\n",
    "                     'maio', 'junho', 'julho', 'agosto', \n",
    "                     'setembro', 'outubro', 'novembro', 'dezembro']\n",
    "\n",
    "month_numbers = [f\"{i:02d}\" for i in range(1, len(portuguese_months) + 1)]\n",
    "\n",
    "months = {name: num for name, num in zip(portuguese_months, month_numbers)}\n",
    "\n",
    "df = write_database_dates(df=df, \n",
    "                          date_col='opening_date', \n",
    "                          months=months)\n",
    "\n",
    "display(df['formatted_opening_date'].head(10))"
   ],
   "metadata": {
    "collapsed": false,
    "ExecuteTime": {
     "end_time": "2024-04-17T23:55:26.718538Z",
     "start_time": "2024-04-17T23:55:24.903196Z"
    }
   },
   "id": "8325b1f9ec27d2d3",
   "execution_count": 3
  },
  {
   "cell_type": "markdown",
   "source": [
    "Another interesting column is the one with the amount of branches and associated. It is a JSON-like structure, and we parse it with the *write_associates_and_branches_cols* to add two new integer columns with the number of associates and branches.  "
   ],
   "metadata": {
    "collapsed": false
   },
   "id": "fa1fa3523f3f3502"
  },
  {
   "cell_type": "code",
   "outputs": [
    {
     "data": {
      "text/plain": "   total_associates  total_branches\n0                 8              12\n1                 8              12\n2                 8              12\n3                 8              12\n4                 8              12\n5                 8              12\n6                 8              12\n7                 8              13\n8                 8              13\n9                 8              13",
      "text/html": "<div>\n<style scoped>\n    .dataframe tbody tr th:only-of-type {\n        vertical-align: middle;\n    }\n\n    .dataframe tbody tr th {\n        vertical-align: top;\n    }\n\n    .dataframe thead th {\n        text-align: right;\n    }\n</style>\n<table border=\"1\" class=\"dataframe\">\n  <thead>\n    <tr style=\"text-align: right;\">\n      <th></th>\n      <th>total_associates</th>\n      <th>total_branches</th>\n    </tr>\n  </thead>\n  <tbody>\n    <tr>\n      <th>0</th>\n      <td>8</td>\n      <td>12</td>\n    </tr>\n    <tr>\n      <th>1</th>\n      <td>8</td>\n      <td>12</td>\n    </tr>\n    <tr>\n      <th>2</th>\n      <td>8</td>\n      <td>12</td>\n    </tr>\n    <tr>\n      <th>3</th>\n      <td>8</td>\n      <td>12</td>\n    </tr>\n    <tr>\n      <th>4</th>\n      <td>8</td>\n      <td>12</td>\n    </tr>\n    <tr>\n      <th>5</th>\n      <td>8</td>\n      <td>12</td>\n    </tr>\n    <tr>\n      <th>6</th>\n      <td>8</td>\n      <td>12</td>\n    </tr>\n    <tr>\n      <th>7</th>\n      <td>8</td>\n      <td>13</td>\n    </tr>\n    <tr>\n      <th>8</th>\n      <td>8</td>\n      <td>13</td>\n    </tr>\n    <tr>\n      <th>9</th>\n      <td>8</td>\n      <td>13</td>\n    </tr>\n  </tbody>\n</table>\n</div>"
     },
     "metadata": {},
     "output_type": "display_data"
    }
   ],
   "source": [
    "df = write_associates_and_branches_cols(df=df,\n",
    "                                        json_col='total_branches_and_associates')\n",
    "\n",
    "display(df[['total_associates', 'total_branches']].head(10))"
   ],
   "metadata": {
    "collapsed": false,
    "ExecuteTime": {
     "end_time": "2024-04-17T23:57:13.737323Z",
     "start_time": "2024-04-17T23:55:26.720047Z"
    }
   },
   "id": "2dde7d9ca228b13c",
   "execution_count": 4
  },
  {
   "cell_type": "markdown",
   "source": [
    "Finally, the cherry on top. Using the *geobr* package we can get official geospatial data from IPEA, which we will need when plotting map charts in Part II.\n",
    "\n",
    "The *create_geodf* function reads all IBGE city codes in the dataset and gets their geometry in a GeoDataFrame format, which we will later join with a pivot table of company data to plot the maps and show business insights.   "
   ],
   "metadata": {
    "collapsed": false
   },
   "id": "57f03c3611599e58"
  },
  {
   "cell_type": "code",
   "outputs": [
    {
     "data": {
      "text/plain": "   code_muni            name_muni  code_state abbrev_state name_state  \\\n0  4128005.0              Ubiratã        41.0           PR     Paraná   \n1  4113502.0               Loanda        41.0           PR     Paraná   \n2  4115200.0              Maringá        41.0           PR     Paraná   \n3  4128104.0             Umuarama        41.0           PR     Paraná   \n4  4118402.0            Paranavaí        41.0           PR     Paraná   \n5  4104303.0         Campo Mourão        41.0           PR     Paraná   \n6  4108601.0              Goioerê        41.0           PR     Paraná   \n7  4104808.0             Cascavel        41.0           PR     Paraná   \n8  4105508.0             Cianorte        41.0           PR     Paraná   \n9  4102000.0  Assis Chateaubriand        41.0           PR     Paraná   \n\n   code_region name_region                                           geometry  \n0          4.0         Sul  MULTIPOLYGON (((-52.97501 -24.34684, -52.98215...  \n1          4.0         Sul  MULTIPOLYGON (((-53.04921 -23.09932, -53.04181...  \n2          4.0         Sul  MULTIPOLYGON (((-51.89955 -23.30343, -51.89638...  \n3          4.0         Sul  MULTIPOLYGON (((-53.31502 -23.82851, -53.31553...  \n4          4.0         Sul  MULTIPOLYGON (((-52.42091 -23.14106, -52.41414...  \n5          4.0         Sul  MULTIPOLYGON (((-52.37089 -23.98980, -52.37816...  \n6          4.0         Sul  MULTIPOLYGON (((-53.04900 -24.25452, -53.05002...  \n7          4.0         Sul  MULTIPOLYGON (((-53.33281 -25.36348, -53.32708...  \n8          4.0         Sul  MULTIPOLYGON (((-52.50163 -23.64750, -52.49811...  \n9          4.0         Sul  MULTIPOLYGON (((-53.52941 -24.24684, -53.53387...  ",
      "text/html": "<div>\n<style scoped>\n    .dataframe tbody tr th:only-of-type {\n        vertical-align: middle;\n    }\n\n    .dataframe tbody tr th {\n        vertical-align: top;\n    }\n\n    .dataframe thead th {\n        text-align: right;\n    }\n</style>\n<table border=\"1\" class=\"dataframe\">\n  <thead>\n    <tr style=\"text-align: right;\">\n      <th></th>\n      <th>code_muni</th>\n      <th>name_muni</th>\n      <th>code_state</th>\n      <th>abbrev_state</th>\n      <th>name_state</th>\n      <th>code_region</th>\n      <th>name_region</th>\n      <th>geometry</th>\n    </tr>\n  </thead>\n  <tbody>\n    <tr>\n      <th>0</th>\n      <td>4128005.0</td>\n      <td>Ubiratã</td>\n      <td>41.0</td>\n      <td>PR</td>\n      <td>Paraná</td>\n      <td>4.0</td>\n      <td>Sul</td>\n      <td>MULTIPOLYGON (((-52.97501 -24.34684, -52.98215...</td>\n    </tr>\n    <tr>\n      <th>1</th>\n      <td>4113502.0</td>\n      <td>Loanda</td>\n      <td>41.0</td>\n      <td>PR</td>\n      <td>Paraná</td>\n      <td>4.0</td>\n      <td>Sul</td>\n      <td>MULTIPOLYGON (((-53.04921 -23.09932, -53.04181...</td>\n    </tr>\n    <tr>\n      <th>2</th>\n      <td>4115200.0</td>\n      <td>Maringá</td>\n      <td>41.0</td>\n      <td>PR</td>\n      <td>Paraná</td>\n      <td>4.0</td>\n      <td>Sul</td>\n      <td>MULTIPOLYGON (((-51.89955 -23.30343, -51.89638...</td>\n    </tr>\n    <tr>\n      <th>3</th>\n      <td>4128104.0</td>\n      <td>Umuarama</td>\n      <td>41.0</td>\n      <td>PR</td>\n      <td>Paraná</td>\n      <td>4.0</td>\n      <td>Sul</td>\n      <td>MULTIPOLYGON (((-53.31502 -23.82851, -53.31553...</td>\n    </tr>\n    <tr>\n      <th>4</th>\n      <td>4118402.0</td>\n      <td>Paranavaí</td>\n      <td>41.0</td>\n      <td>PR</td>\n      <td>Paraná</td>\n      <td>4.0</td>\n      <td>Sul</td>\n      <td>MULTIPOLYGON (((-52.42091 -23.14106, -52.41414...</td>\n    </tr>\n    <tr>\n      <th>5</th>\n      <td>4104303.0</td>\n      <td>Campo Mourão</td>\n      <td>41.0</td>\n      <td>PR</td>\n      <td>Paraná</td>\n      <td>4.0</td>\n      <td>Sul</td>\n      <td>MULTIPOLYGON (((-52.37089 -23.98980, -52.37816...</td>\n    </tr>\n    <tr>\n      <th>6</th>\n      <td>4108601.0</td>\n      <td>Goioerê</td>\n      <td>41.0</td>\n      <td>PR</td>\n      <td>Paraná</td>\n      <td>4.0</td>\n      <td>Sul</td>\n      <td>MULTIPOLYGON (((-53.04900 -24.25452, -53.05002...</td>\n    </tr>\n    <tr>\n      <th>7</th>\n      <td>4104808.0</td>\n      <td>Cascavel</td>\n      <td>41.0</td>\n      <td>PR</td>\n      <td>Paraná</td>\n      <td>4.0</td>\n      <td>Sul</td>\n      <td>MULTIPOLYGON (((-53.33281 -25.36348, -53.32708...</td>\n    </tr>\n    <tr>\n      <th>8</th>\n      <td>4105508.0</td>\n      <td>Cianorte</td>\n      <td>41.0</td>\n      <td>PR</td>\n      <td>Paraná</td>\n      <td>4.0</td>\n      <td>Sul</td>\n      <td>MULTIPOLYGON (((-52.50163 -23.64750, -52.49811...</td>\n    </tr>\n    <tr>\n      <th>9</th>\n      <td>4102000.0</td>\n      <td>Assis Chateaubriand</td>\n      <td>41.0</td>\n      <td>PR</td>\n      <td>Paraná</td>\n      <td>4.0</td>\n      <td>Sul</td>\n      <td>MULTIPOLYGON (((-53.52941 -24.24684, -53.53387...</td>\n    </tr>\n  </tbody>\n</table>\n</div>"
     },
     "metadata": {},
     "output_type": "display_data"
    }
   ],
   "source": [
    "gdf = create_geodf(df=df,\n",
    "                   city_code_col='city_code',\n",
    "                   year=2022)\n",
    "\n",
    "display(gdf.head(10))"
   ],
   "metadata": {
    "collapsed": false,
    "ExecuteTime": {
     "end_time": "2024-04-17T23:57:20.562228Z",
     "start_time": "2024-04-17T23:57:13.750961Z"
    }
   },
   "id": "4c58027ab22abcff",
   "execution_count": 5
  },
  {
   "cell_type": "markdown",
   "source": [
    "Now we know our GeoDataFrame works, let us move on to the next part.\n",
    "\n",
    "# Part II: EDA\n",
    "\n",
    "Let's start by doing some descriptive stats and correlations between variables that might be of interest if we intend to sell b2b products to the companies."
   ],
   "metadata": {
    "collapsed": false
   },
   "id": "62138c78475baedf"
  },
  {
   "cell_type": "code",
   "outputs": [
    {
     "name": "stdout",
     "output_type": "stream",
     "text": [
      "test\n"
     ]
    }
   ],
   "source": [
    "print('test')"
   ],
   "metadata": {
    "collapsed": false,
    "ExecuteTime": {
     "end_time": "2024-04-17T23:57:20.576291Z",
     "start_time": "2024-04-17T23:57:20.564230Z"
    }
   },
   "id": "89b2e9647af2f043",
   "execution_count": 6
  },
  {
   "cell_type": "markdown",
   "source": [
    "# Open Questions\n",
    "\n",
    "<br>\n",
    "\n",
    "### Any conclusions based on the number of companies created by date, month, year etc.?\n",
    "\n",
    "Yes, blalblabla\n",
    "\n",
    "\n"
   ],
   "metadata": {
    "collapsed": false
   },
   "id": "9bfe49558440ba90"
  },
  {
   "cell_type": "code",
   "outputs": [
    {
     "name": "stdout",
     "output_type": "stream",
     "text": [
      "test\n"
     ]
    }
   ],
   "source": [
    "#question 1 code\n",
    "\n",
    "print('test')"
   ],
   "metadata": {
    "collapsed": false,
    "ExecuteTime": {
     "end_time": "2024-04-17T23:57:20.588159Z",
     "start_time": "2024-04-17T23:57:20.578296Z"
    }
   },
   "id": "75f373a58fda719d",
   "execution_count": 7
  },
  {
   "cell_type": "markdown",
   "source": [
    "blablabla\n",
    "\n",
    "### Does the number of branches for a CNPJ provided on the dataset is equal to the actual number produced by the dataset?\n",
    "\n",
    "We can check for that.\n"
   ],
   "metadata": {
    "collapsed": false
   },
   "id": "991f88d0a6cd89eb"
  },
  {
   "cell_type": "code",
   "outputs": [
    {
     "name": "stdout",
     "output_type": "stream",
     "text": [
      "test\n"
     ]
    }
   ],
   "source": [
    "#question 2 code\n",
    "\n",
    "print('test')"
   ],
   "metadata": {
    "collapsed": false,
    "ExecuteTime": {
     "end_time": "2024-04-17T23:57:20.598211Z",
     "start_time": "2024-04-17T23:57:20.591193Z"
    }
   },
   "id": "6891bb6627e1deeb",
   "execution_count": 8
  },
  {
   "cell_type": "markdown",
   "source": [
    "In fact, there is a big difference.\n",
    "\n",
    "### What about the business activities (CNAE, MCC)? What are the main types? Can they be aggregated into fewer groups?\n",
    "\n",
    "the most common are blablablala.\n",
    "\n",
    "Yes, they can as we can see here.\n"
   ],
   "metadata": {
    "collapsed": false
   },
   "id": "3d037ba86dc88a5a"
  },
  {
   "cell_type": "code",
   "outputs": [
    {
     "name": "stdout",
     "output_type": "stream",
     "text": [
      "test\n"
     ]
    }
   ],
   "source": [
    "#question 3 code\n",
    "\n",
    "print('test')"
   ],
   "metadata": {
    "collapsed": false,
    "ExecuteTime": {
     "end_time": "2024-04-17T23:57:20.607068Z",
     "start_time": "2024-04-17T23:57:20.601049Z"
    }
   },
   "id": "f961eef3a6f2516a",
   "execution_count": 9
  },
  {
   "cell_type": "markdown",
   "source": [
    "### What are the differences between the cities / zip codes?\n",
    "\n",
    "The city code is a unique identifier issued by IBGE to make it easier to join city data from different sources.\n",
    "\n",
    "The ZIP code (in Brazil, CEP) is an area code for postal service. Some insights might be derived from it, depending on business needs.\n",
    "\n",
    "### Is it possible to catch any spatial relationships? Which visualizations would be best in this case?\n",
    "\n",
    "Barely. We can calculate the distance between the ZIP code centroids for any given two ZIP codes. This would roughly give us the distance between two companies, but a lot of cities (<50k inhabitants) have only one ZIP code.\n",
    "\n",
    "For a city like Curitiba with multiple ZIP codes, if we wanted to spread our product between businesses to help word-of-mouth marketing instead of selling to many neighbouring companies, we might recommend the top businesses for each ZIP code instead of the entire city.\n",
    "\n",
    "Besides that, we can only plot some map charts with city-level granularity, some examples below."
   ],
   "metadata": {
    "collapsed": false
   },
   "id": "8556c3b5dd74a7b0"
  },
  {
   "cell_type": "code",
   "outputs": [
    {
     "name": "stdout",
     "output_type": "stream",
     "text": [
      "test\n"
     ]
    }
   ],
   "source": [
    "#question 5 code\n",
    "\n",
    "print('test')"
   ],
   "metadata": {
    "collapsed": false,
    "ExecuteTime": {
     "end_time": "2024-04-17T23:57:20.617191Z",
     "start_time": "2024-04-17T23:57:20.610092Z"
    }
   },
   "id": "67297a6ff8469130",
   "execution_count": 10
  },
  {
   "cell_type": "markdown",
   "source": [
    "### If you were to make any model from the data, which one do you think makes sense?\n",
    "\n",
    "If we have several variants of a new product and expect each one of them to have a different persona, then we might run a clustering model. Then we can try matching each cluster to a persona and be more precise with our sales.\n",
    "\n",
    "However, let's say we have an existing product and would like to enter the Paraná state market. We might be interested in running a classification model. An example would be a logistic regression (0 = no deal and 1 = deal from CRM data) to rank the most probable leads to close a deal.\n",
    "\n",
    "If we did so, we might not even need to define a decision boundary because the probability output is already useful in ranking leads, maybe even more so.\n",
    "\n",
    "Even a linear model where the target is revenue from each company might help in recommending leads, so we can know which ones would be more propense to buy big. However, that only works if we have many products with different values, else it would be a waste.\n",
    "\n",
    "In that case, we could even plot the results from the regression and the classification models to get the ones with high probability of buying the product and spending a lot.\n",
    "\n",
    "Depending on the amount of products we sell, an actual recommendation system could also be useful."
   ],
   "metadata": {
    "collapsed": false
   },
   "id": "c95123669adbc8a0"
  }
 ],
 "metadata": {
  "kernelspec": {
   "display_name": "Python 3",
   "language": "python",
   "name": "python3"
  },
  "language_info": {
   "codemirror_mode": {
    "name": "ipython",
    "version": 2
   },
   "file_extension": ".py",
   "mimetype": "text/x-python",
   "name": "python",
   "nbconvert_exporter": "python",
   "pygments_lexer": "ipython2",
   "version": "2.7.6"
  }
 },
 "nbformat": 4,
 "nbformat_minor": 5
}
